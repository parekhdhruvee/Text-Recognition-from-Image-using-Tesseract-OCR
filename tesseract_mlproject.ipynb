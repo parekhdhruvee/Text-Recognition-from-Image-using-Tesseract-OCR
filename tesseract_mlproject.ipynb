{
 "cells": [
  {
   "cell_type": "code",
   "execution_count": 3,
   "id": "7b2f238a",
   "metadata": {},
   "outputs": [
    {
     "name": "stdout",
     "output_type": "stream",
     "text": [
      "Note: you may need to restart the kernel to use updated packages.\n"
     ]
    },
    {
     "name": "stderr",
     "output_type": "stream",
     "text": [
      "ERROR: Could not find a version that satisfies the requirement PIL (from versions: none)\n",
      "ERROR: No matching distribution found for PIL\n"
     ]
    }
   ],
   "source": [
    "pip install PIL"
   ]
  },
  {
   "cell_type": "code",
   "execution_count": 2,
   "id": "0da0b45b",
   "metadata": {},
   "outputs": [
    {
     "name": "stdout",
     "output_type": "stream",
     "text": [
      "Requirement already satisfied: pytesseract in c:\\users\\dhruvi parekh\\anaconda3\\lib\\site-packages (0.3.8)\n",
      "Requirement already satisfied: Pillow in c:\\users\\dhruvi parekh\\anaconda3\\lib\\site-packages (from pytesseract) (8.4.0)\n",
      "Note: you may need to restart the kernel to use updated packages.\n"
     ]
    }
   ],
   "source": [
    "pip install pytesseract"
   ]
  },
  {
   "cell_type": "code",
   "execution_count": 4,
   "id": "c5ce35c2",
   "metadata": {},
   "outputs": [
    {
     "name": "stdout",
     "output_type": "stream",
     "text": [
      "Requirement already satisfied: langdetect in c:\\users\\dhruvi parekh\\anaconda3\\lib\\site-packages (1.0.9)\n",
      "Requirement already satisfied: six in c:\\users\\dhruvi parekh\\anaconda3\\lib\\site-packages (from langdetect) (1.16.0)\n",
      "Note: you may need to restart the kernel to use updated packages.\n"
     ]
    }
   ],
   "source": [
    "pip install langdetect"
   ]
  },
  {
   "cell_type": "code",
   "execution_count": 5,
   "id": "3b33f69b",
   "metadata": {},
   "outputs": [
    {
     "name": "stdout",
     "output_type": "stream",
     "text": [
      "Requirement already satisfied: textblob in c:\\users\\dhruvi parekh\\anaconda3\\lib\\site-packages (0.17.1)Note: you may need to restart the kernel to use updated packages.\n",
      "Requirement already satisfied: nltk>=3.1 in c:\\users\\dhruvi parekh\\anaconda3\\lib\\site-packages (from textblob) (3.7)\n",
      "Requirement already satisfied: regex>=2021.8.3 in c:\\users\\dhruvi parekh\\anaconda3\\lib\\site-packages (from nltk>=3.1->textblob) (2022.3.15)\n",
      "Requirement already satisfied: tqdm in c:\\users\\dhruvi parekh\\anaconda3\\lib\\site-packages (from nltk>=3.1->textblob) (4.62.3)\n",
      "Requirement already satisfied: click in c:\\users\\dhruvi parekh\\anaconda3\\lib\\site-packages (from nltk>=3.1->textblob) (8.0.3)\n",
      "Requirement already satisfied: joblib in c:\\users\\dhruvi parekh\\anaconda3\\lib\\site-packages (from nltk>=3.1->textblob) (1.1.0)\n",
      "Requirement already satisfied: colorama in c:\\users\\dhruvi parekh\\anaconda3\\lib\\site-packages (from click->nltk>=3.1->textblob) (0.4.4)\n",
      "\n"
     ]
    }
   ],
   "source": [
    "pip install textblob"
   ]
  },
  {
   "cell_type": "code",
   "execution_count": 1,
   "id": "0d0adc67",
   "metadata": {},
   "outputs": [
    {
     "name": "stdout",
     "output_type": "stream",
     "text": [
      "Collecting gttsNote: you may need to restart the kernel to use updated packages.\n",
      "\n",
      "  Downloading gTTS-2.2.4-py3-none-any.whl (26 kB)\n",
      "Requirement already satisfied: requests in c:\\users\\dhruvi parekh\\anaconda3\\lib\\site-packages (from gtts) (2.27.1)\n",
      "Requirement already satisfied: six in c:\\users\\dhruvi parekh\\anaconda3\\lib\\site-packages (from gtts) (1.16.0)\n",
      "Requirement already satisfied: click in c:\\users\\dhruvi parekh\\anaconda3\\lib\\site-packages (from gtts) (8.0.3)\n",
      "Requirement already satisfied: colorama in c:\\users\\dhruvi parekh\\anaconda3\\lib\\site-packages (from click->gtts) (0.4.4)\n",
      "Requirement already satisfied: charset-normalizer~=2.0.0 in c:\\users\\dhruvi parekh\\anaconda3\\lib\\site-packages (from requests->gtts) (2.0.4)\n",
      "Requirement already satisfied: idna<4,>=2.5 in c:\\users\\dhruvi parekh\\anaconda3\\lib\\site-packages (from requests->gtts) (3.3)\n",
      "Requirement already satisfied: certifi>=2017.4.17 in c:\\users\\dhruvi parekh\\anaconda3\\lib\\site-packages (from requests->gtts) (2021.10.8)\n",
      "Requirement already satisfied: urllib3<1.27,>=1.21.1 in c:\\users\\dhruvi parekh\\anaconda3\\lib\\site-packages (from requests->gtts) (1.26.7)\n",
      "Installing collected packages: gtts\n",
      "Successfully installed gtts-2.2.4\n"
     ]
    }
   ],
   "source": [
    "pip install gtts"
   ]
  },
  {
   "cell_type": "code",
   "execution_count": 11,
   "id": "776ad69f",
   "metadata": {},
   "outputs": [
    {
     "name": "stdout",
     "output_type": "stream",
     "text": [
      "Pie\n",
      "012345\n",
      "6 7 8 9 10\n",
      "“11 12 13 14 15\n",
      "“16 17 18 19 20\n",
      "°21 22 23 24 25\n",
      "°26 27 28 29 30\n",
      "31 32 33 34 35\n",
      "“36 37 38 39 UO\n",
      "\n",
      "\n",
      "Text is written in file!\n"
     ]
    }
   ],
   "source": [
    "# what is tesseract?\n",
    "# It is open source Optical Character Recognition Engine\n",
    "# It suports wide variety of languages\n",
    "# we took tesseract version 5.0.1\n",
    "# new version released on 18 jan 2022\n",
    "\n",
    "from tkinter import *\n",
    "from PIL import ImageTk, Image\n",
    "from tkinter import filedialog\n",
    "import pytesseract as tess\n",
    "from gtts import gTTS\n",
    "import os\n",
    "\n",
    "root = Tk()\n",
    "root.geometry(\"550x300\")\n",
    "\n",
    "def openfn():\n",
    "    filename = filedialog.askopenfilename(title='open')\n",
    "    return filename\n",
    "    \n",
    "def open_img():\n",
    "    x = openfn()\n",
    "    img = Image.open(x)\n",
    "    img = ImageTk.PhotoImage(img)\n",
    "    panel = Label(root, image=img)\n",
    "    panel.image = img\n",
    "    panel.pack()\n",
    "    tess.pytesseract.tesseract_cmd=r'C:\\Program Files\\Tesseract-OCR\\tesseract.exe'\n",
    "    text = tess.image_to_string(x)\n",
    "    \n",
    "    # THIS IS TO PRINT IMAGE EXTRACTED TEXT\n",
    "    print(text)\n",
    "    \n",
    "    # THIS IS TO CREATE FILE\n",
    "    textfile = open('file.txt', 'w')\n",
    "    textfile.write(text)\n",
    "    print(\"Text is written in file!\")\n",
    "    textfile.close()\n",
    "\n",
    "    # THIS IS TO OPEN FILE AND READ  FILE\n",
    "    textfile = open('file.txt')\n",
    "    text = textfile.read()\n",
    "\n",
    "     # SELECTIN LANGUAGE\n",
    "    #hindi  hi\n",
    "    # gujarati gu\n",
    "    #bengali bn\n",
    "    #french fr\n",
    "    # arabic ar\n",
    "    lang = 'gu'\n",
    "\n",
    "    object = gTTS(text=text, lang=lang, slow=False)\n",
    "    object.save(\"speech.mp3\")\n",
    "\n",
    "    # USING OS DEFAULT SYSTEM TO PLAY AUDIO\n",
    "    os.system(\"speech.mp3\")\n",
    "    \n",
    "\n",
    "btn = Button(root, text='OCR IMAGE', command=open_img).pack()\n",
    "\n",
    "root.mainloop()\n"
   ]
  },
  {
   "cell_type": "code",
   "execution_count": null,
   "id": "61309f00",
   "metadata": {},
   "outputs": [],
   "source": []
  },
  {
   "cell_type": "code",
   "execution_count": null,
   "id": "9c89f686",
   "metadata": {},
   "outputs": [],
   "source": []
  }
 ],
 "metadata": {
  "kernelspec": {
   "display_name": "Python 3.10.5 64-bit (windows store)",
   "language": "python",
   "name": "python3"
  },
  "language_info": {
   "codemirror_mode": {
    "name": "ipython",
    "version": 3
   },
   "file_extension": ".py",
   "mimetype": "text/x-python",
   "name": "python",
   "nbconvert_exporter": "python",
   "pygments_lexer": "ipython3",
   "version": "3.10.5"
  },
  "vscode": {
   "interpreter": {
    "hash": "e7ec3ce631667bc9f345d4c8377b38a81802fd8a7ab954226fc5e69f34b2467e"
   }
  }
 },
 "nbformat": 4,
 "nbformat_minor": 5
}
